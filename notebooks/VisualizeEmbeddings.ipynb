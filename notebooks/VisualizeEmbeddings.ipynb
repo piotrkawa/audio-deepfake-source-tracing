{
 "cells": [
  {
   "cell_type": "markdown",
   "metadata": {},
   "source": [
    "# Visualize Embeddings\n",
    "\n",
    "The following notebook hels to visualize embeddings using UMAP algorithm.\n",
    "Make sure to generate them using the `generate_embeddings.py` script.\n"
   ]
  },
  {
   "cell_type": "code",
   "execution_count": null,
   "metadata": {},
   "outputs": [],
   "source": [
    "\"\"\"\n",
    "DISCLAIMER:\n",
    "This code is provided \"as-is\" without any warranty of any kind, either expressed or implied,\n",
    "including but not limited to the implied warranties of merchantability and fitness for a particular purpose.\n",
    "The author assumes no liability for any damages or consequences resulting from the use of this code.\n",
    "Use it at your own risk.\n",
    "\n",
    "Utility to download and extract all resources needed for the MLAADv5 project.\n",
    "\n",
    "This script handles the downloading of large files with progress bars, ensures\n",
    "caching of already downloaded files, and extracts `.zip` files using 7-Zip.\n",
    "\n",
    "## Author: Piotr KAWA\n",
    "## December 2024\n",
    "\"\"\""
   ]
  },
  {
   "cell_type": "code",
   "execution_count": null,
   "metadata": {},
   "outputs": [],
   "source": [
    "import json\n",
    "from pathlib import Path\n",
    "\n",
    "import matplotlib.pyplot as plt\n",
    "import numpy as np\n",
    "import pandas as pd\n",
    "import umap"
   ]
  },
  {
   "cell_type": "code",
   "execution_count": null,
   "metadata": {},
   "outputs": [],
   "source": [
    "embeddings_root_dir = \"../data/embeddings\""
   ]
  },
  {
   "cell_type": "code",
   "execution_count": null,
   "metadata": {},
   "outputs": [],
   "source": [
    "def find_samples(embeddings_dir_path: Path) -> list[dict]:\n",
    "    embeddings_dir_path = Path(embeddings_dir_path)\n",
    "    samples = []\n",
    "    for p in embeddings_dir_path.rglob(\"*.npy\"):\n",
    "        samples.append(\n",
    "            {\n",
    "                \"embedding_path\": str(p),\n",
    "                \"class_id\": p.parent.name,\n",
    "            }\n",
    "        )\n",
    "    return samples"
   ]
  },
  {
   "cell_type": "code",
   "execution_count": null,
   "metadata": {},
   "outputs": [],
   "source": [
    "embeddings_dir_root = Path(embeddings_root_dir)\n",
    "train_subdir_root = embeddings_dir_root / \"train\"\n",
    "dev_subdir_root = embeddings_dir_root / \"dev\"\n",
    "test_subdir_root = embeddings_dir_root / \"test\"\n",
    "\n",
    "train_and_dev_samples = pd.DataFrame(\n",
    "    find_samples(train_subdir_root) + find_samples(dev_subdir_root)\n",
    ")\n",
    "test_samples = pd.DataFrame(find_samples(test_subdir_root))"
   ]
  },
  {
   "cell_type": "code",
   "execution_count": null,
   "metadata": {},
   "outputs": [],
   "source": [
    "with open(\"../class_mapping.json\") as f:\n",
    "    class_mapping = json.load(f)\n",
    "\n",
    "inv_class_mapping = {}\n",
    "\n",
    "for k, v in class_mapping.items():\n",
    "    inv_class_mapping[v] = k\n",
    "\n",
    "train_and_dev_samples[\"class_name\"] = train_and_dev_samples[\"class_id\"].apply(\n",
    "    lambda x: str(inv_class_mapping[int(x)])\n",
    ")\n",
    "test_samples[\"class_name\"] = test_samples[\"class_id\"].apply(\n",
    "    lambda x: str(inv_class_mapping[int(x)])\n",
    ")"
   ]
  },
  {
   "cell_type": "code",
   "execution_count": null,
   "metadata": {},
   "outputs": [],
   "source": [
    "train_and_dev_embeddings = [\n",
    "    np.load(path) for path in train_and_dev_samples[\"embedding_path\"]\n",
    "]\n",
    "test_embeddings = [np.load(path) for path in test_samples[\"embedding_path\"]]"
   ]
  },
  {
   "cell_type": "code",
   "execution_count": null,
   "metadata": {},
   "outputs": [],
   "source": [
    "reducer = umap.UMAP()\n",
    "print(\"Fit + transform train and dev embeddings\")\n",
    "train_embedding_umap = reducer.fit_transform(train_and_dev_embeddings)"
   ]
  },
  {
   "cell_type": "code",
   "execution_count": null,
   "metadata": {
    "vscode": {
     "languageId": "ruby"
    }
   },
   "outputs": [],
   "source": [
    "plt.figure(figsize=(15, 15))\n",
    "for class_name in train_and_dev_samples[\"class_name\"].unique():\n",
    "    indices = train_and_dev_samples[\"class_name\"] == class_name\n",
    "    plt.scatter(\n",
    "        train_embedding_umap[indices, 0],\n",
    "        train_embedding_umap[indices, 1],\n",
    "        s=3,\n",
    "        label=class_name,\n",
    "    )\n",
    "\n",
    "plt.title(\"UMAP projection of the train and dev embeddings\")\n",
    "plt.legend(markerscale=5, bbox_to_anchor=(1.05, 1), loc=\"upper left\")\n",
    "plt.show()"
   ]
  },
  {
   "cell_type": "code",
   "execution_count": null,
   "metadata": {},
   "outputs": [],
   "source": [
    "print(\"Transforming test embeddings\")\n",
    "test_embedding_umap = reducer.transform(test_embeddings)"
   ]
  },
  {
   "cell_type": "code",
   "execution_count": null,
   "metadata": {},
   "outputs": [],
   "source": [
    "plt.figure(figsize=(15, 15))\n",
    "for class_name in test_samples[\"class_name\"].unique():\n",
    "    indices = test_samples[\"class_name\"] == class_name\n",
    "    plt.scatter(\n",
    "        test_embedding_umap[indices, 0],\n",
    "        test_embedding_umap[indices, 1],\n",
    "        s=3,\n",
    "        label=class_name,\n",
    "    )\n",
    "\n",
    "plt.title(\"UMAP projection of the test embeddings\")\n",
    "plt.legend(markerscale=5, bbox_to_anchor=(1.05, 1), loc=\"upper left\")\n",
    "plt.show()"
   ]
  }
 ],
 "metadata": {
  "kernelspec": {
   "display_name": "source-tracing",
   "language": "python",
   "name": "python3"
  },
  "language_info": {
   "codemirror_mode": {
    "name": "ipython",
    "version": 3
   },
   "file_extension": ".py",
   "mimetype": "text/x-python",
   "name": "python",
   "nbconvert_exporter": "python",
   "pygments_lexer": "ipython3",
   "version": "3.11.10"
  }
 },
 "nbformat": 4,
 "nbformat_minor": 2
}
